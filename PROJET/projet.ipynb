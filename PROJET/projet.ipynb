{
 "cells": [
  {
   "cell_type": "markdown",
   "metadata": {},
   "source": [
    "## Mini Projet Apprentissage Artificel : Groupe Paul Garnier - Arthur Verrez\n",
    "\n",
    "(à rendre pour le vendredi 16/11/18)"
   ]
  },
  {
   "cell_type": "markdown",
   "metadata": {},
   "source": [
    "Choix du sujet : Transfer Learning "
   ]
  },
  {
   "cell_type": "markdown",
   "metadata": {},
   "source": [
    "Nous allons utiliser le ConvNet construit par Google et notamment François Chollet : [Papier d'origine](https://arxiv.org/abs/1610.02357)"
   ]
  },
  {
   "cell_type": "markdown",
   "metadata": {},
   "source": [
    "Le réseau se base sur des modules, que l'on présente ci-dessous : \n",
    "\n",
    "![inception-module](inception-module.png \"Module Inception V3\")"
   ]
  },
  {
   "cell_type": "markdown",
   "metadata": {},
   "source": [
    "Chacun de ces modules vont \"s'empiler\" pour former notre réseau total. On présente sa forme complète ci-dessous : \n",
    "\n",
    "![xception](xception.png \"Xception ConvNet\")"
   ]
  },
  {
   "cell_type": "markdown",
   "metadata": {},
   "source": [
    "C'est un réseau qui obtient de très bonnes performances, tout en limitant son nombre de paramètres (22 millions de paramètres). \n",
    "\n",
    "![xception-resultats](xception-resultats.png \"Xception ConvNet\")"
   ]
  },
  {
   "cell_type": "markdown",
   "metadata": {},
   "source": [
    "## Mise en place du modèle : \n",
    "\n",
    "Nous allons commencer par mettre en place nos ConvNet, ainsi que les modules dont nous auront besoins : "
   ]
  },
  {
   "cell_type": "code",
   "execution_count": 144,
   "metadata": {},
   "outputs": [
    {
     "name": "stdout",
     "output_type": "stream",
     "text": [
      "done.\n"
     ]
    }
   ],
   "source": [
    "## Imports des différents modules, hors Keras: \n",
    "## ===============================\n",
    "\n",
    "import os\n",
    "import copy\n",
    "import sys\n",
    "\n",
    "# et pour l'affichage : \n",
    "\n",
    "import matplotlib\n",
    "%matplotlib inline\n",
    "import matplotlib.pyplot as plt\n",
    "\n",
    "# Pour Keras : \n",
    "\n",
    "\n",
    "from keras import backend as K\n",
    "from keras import __version__\n",
    "\n",
    "# Pour charger notre modèle : \n",
    "from keras.applications.xception import Xception, preprocess_input\n",
    "from keras.models import Model\n",
    "from keras.models import load_model\n",
    "\n",
    "# Pour modifier notre modèle : \n",
    "\n",
    "from keras.layers import Dense, MaxPooling2D, AveragePooling2D, GlobalAveragePooling2D, Input, Flatten, Dropout\n",
    "from keras.optimizers import SGD\n",
    "\n",
    "# Pour modifier nos images et les utiliser : \n",
    "\n",
    "from keras.preprocessing.image import ImageDataGenerator\n",
    "print(\"done.\")"
   ]
  },
  {
   "cell_type": "markdown",
   "metadata": {},
   "source": [
    "Nous allons maintenant configurer les paramètres que nous allons utiliser :  "
   ]
  },
  {
   "cell_type": "code",
   "execution_count": 145,
   "metadata": {},
   "outputs": [
    {
     "name": "stdout",
     "output_type": "stream",
     "text": [
      "done.\n"
     ]
    }
   ],
   "source": [
    "WIDTH, HEIGHT = 299, 299 #fixed size for InceptionV3\n",
    "CHANNEL = 3\n",
    "NB_EPOCHS = 10\n",
    "BAT_SIZE = 16\n",
    "FC_SIZE = 1024\n",
    "NB_IMG_TRAIN = 200\n",
    "NB_IMG_VAL = 40\n",
    "BAT_SIZE_TEST = 4\n",
    "nb_classes = 7\n",
    "print(\"done.\")"
   ]
  },
  {
   "cell_type": "markdown",
   "metadata": {},
   "source": [
    "On peut maintenant charger notre modèle : "
   ]
  },
  {
   "cell_type": "code",
   "execution_count": 146,
   "metadata": {},
   "outputs": [
    {
     "name": "stdout",
     "output_type": "stream",
     "text": [
      "done.\n"
     ]
    }
   ],
   "source": [
    "model_xception = Xception(input_tensor = Input(shape=(WIDTH,HEIGHT,CHANNEL)),\n",
    "                          weights='imagenet', # On le prend, pre-trained sur imagesnet. \n",
    "                          include_top=False) # Pour enlever la couche Dense(1000) de classification\n",
    "print(\"done.\")"
   ]
  },
  {
   "cell_type": "markdown",
   "metadata": {},
   "source": [
    "On va maintenant construire nos fonctions pour le transfer learning. \n",
    "\n",
    "Globalement, cela représente : \n",
    "\n",
    "- une fonction pour modifier notre réseau (changer les dernières couches)\n",
    "- une fonction pour freeze l'entrainement de toutes les couches, sauf la dernière\n",
    "- une fonction pour freeze l'entrainement d'une nombre choisit de couches (fine tunning)\n"
   ]
  },
  {
   "cell_type": "code",
   "execution_count": 147,
   "metadata": {},
   "outputs": [
    {
     "name": "stdout",
     "output_type": "stream",
     "text": [
      "done.\n"
     ]
    }
   ],
   "source": [
    "\"\"\"\n",
    "On rajoute des nouvelles couches à notre modèle, et on le retourne\n",
    "\n",
    "\"\"\"\n",
    "\n",
    "def nouvelle_couche(model, nb_classes):\n",
    "    x = model.output\n",
    "    x = AveragePooling2D((10,10), padding='valid')(x) # On place un avg_pooling de taille 10x10 pour limiter les paramètres\n",
    "    x = Dropout(0.6)(x) # On place du dropout, pour éviter l'overfitting.\n",
    "    x = Flatten()(x) \n",
    "    x = Dense(1024,activation='relu')(x)\n",
    "    x = Dropout(0.6)(x)\n",
    "    predictions = Dense(nb_classes, activation='softmax')(x)\n",
    "    new_model = Model(inputs=model.input, outputs=predictions)\n",
    "    return new_model\n",
    "\n",
    "print(\"done.\")"
   ]
  },
  {
   "cell_type": "code",
   "execution_count": 148,
   "metadata": {},
   "outputs": [
    {
     "name": "stdout",
     "output_type": "stream",
     "text": [
      "done.\n"
     ]
    }
   ],
   "source": [
    "\"\"\"\n",
    "On freeze l'intégralité des couches de notre premier modèle : ici le xception.\n",
    "On compile ensuite notre modèle total et on affiche sa structure.\n",
    "On renvoie aussi le nombre de couches.\n",
    "\"\"\"\n",
    "\n",
    "def freeze_full(new_model, model): \n",
    "    print(\"Nombre de couche dans le modèle de base := {}\".format(len(model.layers)))\n",
    "    for layer in model.layers:\n",
    "        layer.trainable = False\n",
    "    new_model.compile(optimizer='adam',\n",
    "                  loss='categorical_crossentropy',\n",
    "                  metrics=['accuracy'])\n",
    "    new_model.summary()\n",
    "    \n",
    "print(\"done.\")"
   ]
  },
  {
   "cell_type": "code",
   "execution_count": 149,
   "metadata": {},
   "outputs": [
    {
     "name": "stdout",
     "output_type": "stream",
     "text": [
      "done.\n"
     ]
    }
   ],
   "source": [
    "\"\"\"\n",
    "Ici, on ne freeze les couches que jusqu'à un certains index : \n",
    "\"\"\"\n",
    "\n",
    "def freeze_some(new_model,model,indx):\n",
    "    cpt = 0\n",
    "    for layer in model.layers:\n",
    "        layer.trainable = False\n",
    "        cpt+=1\n",
    "        if cpt > indx:\n",
    "            break \n",
    "    new_model.compile(optimizer='adam',\n",
    "                  loss='categorical_crossentropy',\n",
    "                  metrics=['accuracy'])\n",
    "    new_model.summary()\n",
    "    \n",
    "print(\"done.\")"
   ]
  },
  {
   "cell_type": "markdown",
   "metadata": {},
   "source": [
    "Il reste maintenant à mettre en place tout notre modèle.\n",
    "Pour l'instant, on évite des choix de paramètres tricky, et on freeze tout le Xception de départ : "
   ]
  },
  {
   "cell_type": "code",
   "execution_count": 150,
   "metadata": {},
   "outputs": [
    {
     "name": "stdout",
     "output_type": "stream",
     "text": [
      "Nombre de couche dans le modèle de base := 132\n",
      "__________________________________________________________________________________________________\n",
      "Layer (type)                    Output Shape         Param #     Connected to                     \n",
      "==================================================================================================\n",
      "input_11 (InputLayer)           (None, 299, 299, 3)  0                                            \n",
      "__________________________________________________________________________________________________\n",
      "block1_conv1 (Conv2D)           (None, 149, 149, 32) 864         input_11[0][0]                   \n",
      "__________________________________________________________________________________________________\n",
      "block1_conv1_bn (BatchNormaliza (None, 149, 149, 32) 128         block1_conv1[0][0]               \n",
      "__________________________________________________________________________________________________\n",
      "block1_conv1_act (Activation)   (None, 149, 149, 32) 0           block1_conv1_bn[0][0]            \n",
      "__________________________________________________________________________________________________\n",
      "block1_conv2 (Conv2D)           (None, 147, 147, 64) 18432       block1_conv1_act[0][0]           \n",
      "__________________________________________________________________________________________________\n",
      "block1_conv2_bn (BatchNormaliza (None, 147, 147, 64) 256         block1_conv2[0][0]               \n",
      "__________________________________________________________________________________________________\n",
      "block1_conv2_act (Activation)   (None, 147, 147, 64) 0           block1_conv2_bn[0][0]            \n",
      "__________________________________________________________________________________________________\n",
      "block2_sepconv1 (SeparableConv2 (None, 147, 147, 128 8768        block1_conv2_act[0][0]           \n",
      "__________________________________________________________________________________________________\n",
      "block2_sepconv1_bn (BatchNormal (None, 147, 147, 128 512         block2_sepconv1[0][0]            \n",
      "__________________________________________________________________________________________________\n",
      "block2_sepconv2_act (Activation (None, 147, 147, 128 0           block2_sepconv1_bn[0][0]         \n",
      "__________________________________________________________________________________________________\n",
      "block2_sepconv2 (SeparableConv2 (None, 147, 147, 128 17536       block2_sepconv2_act[0][0]        \n",
      "__________________________________________________________________________________________________\n",
      "block2_sepconv2_bn (BatchNormal (None, 147, 147, 128 512         block2_sepconv2[0][0]            \n",
      "__________________________________________________________________________________________________\n",
      "conv2d_41 (Conv2D)              (None, 74, 74, 128)  8192        block1_conv2_act[0][0]           \n",
      "__________________________________________________________________________________________________\n",
      "block2_pool (MaxPooling2D)      (None, 74, 74, 128)  0           block2_sepconv2_bn[0][0]         \n",
      "__________________________________________________________________________________________________\n",
      "batch_normalization_41 (BatchNo (None, 74, 74, 128)  512         conv2d_41[0][0]                  \n",
      "__________________________________________________________________________________________________\n",
      "add_121 (Add)                   (None, 74, 74, 128)  0           block2_pool[0][0]                \n",
      "                                                                 batch_normalization_41[0][0]     \n",
      "__________________________________________________________________________________________________\n",
      "block3_sepconv1_act (Activation (None, 74, 74, 128)  0           add_121[0][0]                    \n",
      "__________________________________________________________________________________________________\n",
      "block3_sepconv1 (SeparableConv2 (None, 74, 74, 256)  33920       block3_sepconv1_act[0][0]        \n",
      "__________________________________________________________________________________________________\n",
      "block3_sepconv1_bn (BatchNormal (None, 74, 74, 256)  1024        block3_sepconv1[0][0]            \n",
      "__________________________________________________________________________________________________\n",
      "block3_sepconv2_act (Activation (None, 74, 74, 256)  0           block3_sepconv1_bn[0][0]         \n",
      "__________________________________________________________________________________________________\n",
      "block3_sepconv2 (SeparableConv2 (None, 74, 74, 256)  67840       block3_sepconv2_act[0][0]        \n",
      "__________________________________________________________________________________________________\n",
      "block3_sepconv2_bn (BatchNormal (None, 74, 74, 256)  1024        block3_sepconv2[0][0]            \n",
      "__________________________________________________________________________________________________\n",
      "conv2d_42 (Conv2D)              (None, 37, 37, 256)  32768       add_121[0][0]                    \n",
      "__________________________________________________________________________________________________\n",
      "block3_pool (MaxPooling2D)      (None, 37, 37, 256)  0           block3_sepconv2_bn[0][0]         \n",
      "__________________________________________________________________________________________________\n",
      "batch_normalization_42 (BatchNo (None, 37, 37, 256)  1024        conv2d_42[0][0]                  \n",
      "__________________________________________________________________________________________________\n",
      "add_122 (Add)                   (None, 37, 37, 256)  0           block3_pool[0][0]                \n",
      "                                                                 batch_normalization_42[0][0]     \n",
      "__________________________________________________________________________________________________\n",
      "block4_sepconv1_act (Activation (None, 37, 37, 256)  0           add_122[0][0]                    \n",
      "__________________________________________________________________________________________________\n",
      "block4_sepconv1 (SeparableConv2 (None, 37, 37, 728)  188672      block4_sepconv1_act[0][0]        \n",
      "__________________________________________________________________________________________________\n",
      "block4_sepconv1_bn (BatchNormal (None, 37, 37, 728)  2912        block4_sepconv1[0][0]            \n",
      "__________________________________________________________________________________________________\n",
      "block4_sepconv2_act (Activation (None, 37, 37, 728)  0           block4_sepconv1_bn[0][0]         \n",
      "__________________________________________________________________________________________________\n",
      "block4_sepconv2 (SeparableConv2 (None, 37, 37, 728)  536536      block4_sepconv2_act[0][0]        \n",
      "__________________________________________________________________________________________________\n",
      "block4_sepconv2_bn (BatchNormal (None, 37, 37, 728)  2912        block4_sepconv2[0][0]            \n",
      "__________________________________________________________________________________________________\n",
      "conv2d_43 (Conv2D)              (None, 19, 19, 728)  186368      add_122[0][0]                    \n",
      "__________________________________________________________________________________________________\n",
      "block4_pool (MaxPooling2D)      (None, 19, 19, 728)  0           block4_sepconv2_bn[0][0]         \n",
      "__________________________________________________________________________________________________\n",
      "batch_normalization_43 (BatchNo (None, 19, 19, 728)  2912        conv2d_43[0][0]                  \n",
      "__________________________________________________________________________________________________\n",
      "add_123 (Add)                   (None, 19, 19, 728)  0           block4_pool[0][0]                \n",
      "                                                                 batch_normalization_43[0][0]     \n",
      "__________________________________________________________________________________________________\n",
      "block5_sepconv1_act (Activation (None, 19, 19, 728)  0           add_123[0][0]                    \n",
      "__________________________________________________________________________________________________\n",
      "block5_sepconv1 (SeparableConv2 (None, 19, 19, 728)  536536      block5_sepconv1_act[0][0]        \n",
      "__________________________________________________________________________________________________\n",
      "block5_sepconv1_bn (BatchNormal (None, 19, 19, 728)  2912        block5_sepconv1[0][0]            \n",
      "__________________________________________________________________________________________________\n",
      "block5_sepconv2_act (Activation (None, 19, 19, 728)  0           block5_sepconv1_bn[0][0]         \n",
      "__________________________________________________________________________________________________\n",
      "block5_sepconv2 (SeparableConv2 (None, 19, 19, 728)  536536      block5_sepconv2_act[0][0]        \n",
      "__________________________________________________________________________________________________\n",
      "block5_sepconv2_bn (BatchNormal (None, 19, 19, 728)  2912        block5_sepconv2[0][0]            \n",
      "__________________________________________________________________________________________________\n",
      "block5_sepconv3_act (Activation (None, 19, 19, 728)  0           block5_sepconv2_bn[0][0]         \n",
      "__________________________________________________________________________________________________\n",
      "block5_sepconv3 (SeparableConv2 (None, 19, 19, 728)  536536      block5_sepconv3_act[0][0]        \n",
      "__________________________________________________________________________________________________\n",
      "block5_sepconv3_bn (BatchNormal (None, 19, 19, 728)  2912        block5_sepconv3[0][0]            \n",
      "__________________________________________________________________________________________________\n",
      "add_124 (Add)                   (None, 19, 19, 728)  0           block5_sepconv3_bn[0][0]         \n",
      "                                                                 add_123[0][0]                    \n",
      "__________________________________________________________________________________________________\n",
      "block6_sepconv1_act (Activation (None, 19, 19, 728)  0           add_124[0][0]                    \n",
      "__________________________________________________________________________________________________\n",
      "block6_sepconv1 (SeparableConv2 (None, 19, 19, 728)  536536      block6_sepconv1_act[0][0]        \n",
      "__________________________________________________________________________________________________\n",
      "block6_sepconv1_bn (BatchNormal (None, 19, 19, 728)  2912        block6_sepconv1[0][0]            \n",
      "__________________________________________________________________________________________________\n",
      "block6_sepconv2_act (Activation (None, 19, 19, 728)  0           block6_sepconv1_bn[0][0]         \n",
      "__________________________________________________________________________________________________\n",
      "block6_sepconv2 (SeparableConv2 (None, 19, 19, 728)  536536      block6_sepconv2_act[0][0]        \n",
      "__________________________________________________________________________________________________\n",
      "block6_sepconv2_bn (BatchNormal (None, 19, 19, 728)  2912        block6_sepconv2[0][0]            \n",
      "__________________________________________________________________________________________________\n",
      "block6_sepconv3_act (Activation (None, 19, 19, 728)  0           block6_sepconv2_bn[0][0]         \n",
      "__________________________________________________________________________________________________\n",
      "block6_sepconv3 (SeparableConv2 (None, 19, 19, 728)  536536      block6_sepconv3_act[0][0]        \n",
      "__________________________________________________________________________________________________\n",
      "block6_sepconv3_bn (BatchNormal (None, 19, 19, 728)  2912        block6_sepconv3[0][0]            \n",
      "__________________________________________________________________________________________________\n",
      "add_125 (Add)                   (None, 19, 19, 728)  0           block6_sepconv3_bn[0][0]         \n",
      "                                                                 add_124[0][0]                    \n",
      "__________________________________________________________________________________________________\n",
      "block7_sepconv1_act (Activation (None, 19, 19, 728)  0           add_125[0][0]                    \n",
      "__________________________________________________________________________________________________\n",
      "block7_sepconv1 (SeparableConv2 (None, 19, 19, 728)  536536      block7_sepconv1_act[0][0]        \n",
      "__________________________________________________________________________________________________\n",
      "block7_sepconv1_bn (BatchNormal (None, 19, 19, 728)  2912        block7_sepconv1[0][0]            \n",
      "__________________________________________________________________________________________________\n",
      "block7_sepconv2_act (Activation (None, 19, 19, 728)  0           block7_sepconv1_bn[0][0]         \n",
      "__________________________________________________________________________________________________\n",
      "block7_sepconv2 (SeparableConv2 (None, 19, 19, 728)  536536      block7_sepconv2_act[0][0]        \n",
      "__________________________________________________________________________________________________\n",
      "block7_sepconv2_bn (BatchNormal (None, 19, 19, 728)  2912        block7_sepconv2[0][0]            \n",
      "__________________________________________________________________________________________________\n",
      "block7_sepconv3_act (Activation (None, 19, 19, 728)  0           block7_sepconv2_bn[0][0]         \n",
      "__________________________________________________________________________________________________\n",
      "block7_sepconv3 (SeparableConv2 (None, 19, 19, 728)  536536      block7_sepconv3_act[0][0]        \n",
      "__________________________________________________________________________________________________\n",
      "block7_sepconv3_bn (BatchNormal (None, 19, 19, 728)  2912        block7_sepconv3[0][0]            \n",
      "__________________________________________________________________________________________________\n",
      "add_126 (Add)                   (None, 19, 19, 728)  0           block7_sepconv3_bn[0][0]         \n",
      "                                                                 add_125[0][0]                    \n",
      "__________________________________________________________________________________________________\n",
      "block8_sepconv1_act (Activation (None, 19, 19, 728)  0           add_126[0][0]                    \n",
      "__________________________________________________________________________________________________\n",
      "block8_sepconv1 (SeparableConv2 (None, 19, 19, 728)  536536      block8_sepconv1_act[0][0]        \n",
      "__________________________________________________________________________________________________\n",
      "block8_sepconv1_bn (BatchNormal (None, 19, 19, 728)  2912        block8_sepconv1[0][0]            \n",
      "__________________________________________________________________________________________________\n",
      "block8_sepconv2_act (Activation (None, 19, 19, 728)  0           block8_sepconv1_bn[0][0]         \n",
      "__________________________________________________________________________________________________\n",
      "block8_sepconv2 (SeparableConv2 (None, 19, 19, 728)  536536      block8_sepconv2_act[0][0]        \n",
      "__________________________________________________________________________________________________\n",
      "block8_sepconv2_bn (BatchNormal (None, 19, 19, 728)  2912        block8_sepconv2[0][0]            \n",
      "__________________________________________________________________________________________________\n",
      "block8_sepconv3_act (Activation (None, 19, 19, 728)  0           block8_sepconv2_bn[0][0]         \n",
      "__________________________________________________________________________________________________\n",
      "block8_sepconv3 (SeparableConv2 (None, 19, 19, 728)  536536      block8_sepconv3_act[0][0]        \n",
      "__________________________________________________________________________________________________\n",
      "block8_sepconv3_bn (BatchNormal (None, 19, 19, 728)  2912        block8_sepconv3[0][0]            \n",
      "__________________________________________________________________________________________________\n",
      "add_127 (Add)                   (None, 19, 19, 728)  0           block8_sepconv3_bn[0][0]         \n",
      "                                                                 add_126[0][0]                    \n",
      "__________________________________________________________________________________________________\n",
      "block9_sepconv1_act (Activation (None, 19, 19, 728)  0           add_127[0][0]                    \n",
      "__________________________________________________________________________________________________\n",
      "block9_sepconv1 (SeparableConv2 (None, 19, 19, 728)  536536      block9_sepconv1_act[0][0]        \n",
      "__________________________________________________________________________________________________\n",
      "block9_sepconv1_bn (BatchNormal (None, 19, 19, 728)  2912        block9_sepconv1[0][0]            \n",
      "__________________________________________________________________________________________________\n",
      "block9_sepconv2_act (Activation (None, 19, 19, 728)  0           block9_sepconv1_bn[0][0]         \n",
      "__________________________________________________________________________________________________\n",
      "block9_sepconv2 (SeparableConv2 (None, 19, 19, 728)  536536      block9_sepconv2_act[0][0]        \n",
      "__________________________________________________________________________________________________\n",
      "block9_sepconv2_bn (BatchNormal (None, 19, 19, 728)  2912        block9_sepconv2[0][0]            \n",
      "__________________________________________________________________________________________________\n",
      "block9_sepconv3_act (Activation (None, 19, 19, 728)  0           block9_sepconv2_bn[0][0]         \n",
      "__________________________________________________________________________________________________\n",
      "block9_sepconv3 (SeparableConv2 (None, 19, 19, 728)  536536      block9_sepconv3_act[0][0]        \n",
      "__________________________________________________________________________________________________\n",
      "block9_sepconv3_bn (BatchNormal (None, 19, 19, 728)  2912        block9_sepconv3[0][0]            \n",
      "__________________________________________________________________________________________________\n",
      "add_128 (Add)                   (None, 19, 19, 728)  0           block9_sepconv3_bn[0][0]         \n",
      "                                                                 add_127[0][0]                    \n",
      "__________________________________________________________________________________________________\n",
      "block10_sepconv1_act (Activatio (None, 19, 19, 728)  0           add_128[0][0]                    \n",
      "__________________________________________________________________________________________________\n",
      "block10_sepconv1 (SeparableConv (None, 19, 19, 728)  536536      block10_sepconv1_act[0][0]       \n",
      "__________________________________________________________________________________________________\n",
      "block10_sepconv1_bn (BatchNorma (None, 19, 19, 728)  2912        block10_sepconv1[0][0]           \n",
      "__________________________________________________________________________________________________\n",
      "block10_sepconv2_act (Activatio (None, 19, 19, 728)  0           block10_sepconv1_bn[0][0]        \n",
      "__________________________________________________________________________________________________\n",
      "block10_sepconv2 (SeparableConv (None, 19, 19, 728)  536536      block10_sepconv2_act[0][0]       \n",
      "__________________________________________________________________________________________________\n",
      "block10_sepconv2_bn (BatchNorma (None, 19, 19, 728)  2912        block10_sepconv2[0][0]           \n",
      "__________________________________________________________________________________________________\n",
      "block10_sepconv3_act (Activatio (None, 19, 19, 728)  0           block10_sepconv2_bn[0][0]        \n",
      "__________________________________________________________________________________________________\n",
      "block10_sepconv3 (SeparableConv (None, 19, 19, 728)  536536      block10_sepconv3_act[0][0]       \n",
      "__________________________________________________________________________________________________\n",
      "block10_sepconv3_bn (BatchNorma (None, 19, 19, 728)  2912        block10_sepconv3[0][0]           \n",
      "__________________________________________________________________________________________________\n",
      "add_129 (Add)                   (None, 19, 19, 728)  0           block10_sepconv3_bn[0][0]        \n",
      "                                                                 add_128[0][0]                    \n",
      "__________________________________________________________________________________________________\n",
      "block11_sepconv1_act (Activatio (None, 19, 19, 728)  0           add_129[0][0]                    \n",
      "__________________________________________________________________________________________________\n",
      "block11_sepconv1 (SeparableConv (None, 19, 19, 728)  536536      block11_sepconv1_act[0][0]       \n",
      "__________________________________________________________________________________________________\n",
      "block11_sepconv1_bn (BatchNorma (None, 19, 19, 728)  2912        block11_sepconv1[0][0]           \n",
      "__________________________________________________________________________________________________\n",
      "block11_sepconv2_act (Activatio (None, 19, 19, 728)  0           block11_sepconv1_bn[0][0]        \n",
      "__________________________________________________________________________________________________\n",
      "block11_sepconv2 (SeparableConv (None, 19, 19, 728)  536536      block11_sepconv2_act[0][0]       \n",
      "__________________________________________________________________________________________________\n",
      "block11_sepconv2_bn (BatchNorma (None, 19, 19, 728)  2912        block11_sepconv2[0][0]           \n",
      "__________________________________________________________________________________________________\n",
      "block11_sepconv3_act (Activatio (None, 19, 19, 728)  0           block11_sepconv2_bn[0][0]        \n",
      "__________________________________________________________________________________________________\n",
      "block11_sepconv3 (SeparableConv (None, 19, 19, 728)  536536      block11_sepconv3_act[0][0]       \n",
      "__________________________________________________________________________________________________\n",
      "block11_sepconv3_bn (BatchNorma (None, 19, 19, 728)  2912        block11_sepconv3[0][0]           \n",
      "__________________________________________________________________________________________________\n",
      "add_130 (Add)                   (None, 19, 19, 728)  0           block11_sepconv3_bn[0][0]        \n",
      "                                                                 add_129[0][0]                    \n",
      "__________________________________________________________________________________________________\n",
      "block12_sepconv1_act (Activatio (None, 19, 19, 728)  0           add_130[0][0]                    \n",
      "__________________________________________________________________________________________________\n",
      "block12_sepconv1 (SeparableConv (None, 19, 19, 728)  536536      block12_sepconv1_act[0][0]       \n",
      "__________________________________________________________________________________________________\n",
      "block12_sepconv1_bn (BatchNorma (None, 19, 19, 728)  2912        block12_sepconv1[0][0]           \n",
      "__________________________________________________________________________________________________\n",
      "block12_sepconv2_act (Activatio (None, 19, 19, 728)  0           block12_sepconv1_bn[0][0]        \n",
      "__________________________________________________________________________________________________\n",
      "block12_sepconv2 (SeparableConv (None, 19, 19, 728)  536536      block12_sepconv2_act[0][0]       \n",
      "__________________________________________________________________________________________________\n",
      "block12_sepconv2_bn (BatchNorma (None, 19, 19, 728)  2912        block12_sepconv2[0][0]           \n",
      "__________________________________________________________________________________________________\n",
      "block12_sepconv3_act (Activatio (None, 19, 19, 728)  0           block12_sepconv2_bn[0][0]        \n",
      "__________________________________________________________________________________________________\n",
      "block12_sepconv3 (SeparableConv (None, 19, 19, 728)  536536      block12_sepconv3_act[0][0]       \n",
      "__________________________________________________________________________________________________\n",
      "block12_sepconv3_bn (BatchNorma (None, 19, 19, 728)  2912        block12_sepconv3[0][0]           \n",
      "__________________________________________________________________________________________________\n",
      "add_131 (Add)                   (None, 19, 19, 728)  0           block12_sepconv3_bn[0][0]        \n",
      "                                                                 add_130[0][0]                    \n",
      "__________________________________________________________________________________________________\n",
      "block13_sepconv1_act (Activatio (None, 19, 19, 728)  0           add_131[0][0]                    \n",
      "__________________________________________________________________________________________________\n",
      "block13_sepconv1 (SeparableConv (None, 19, 19, 728)  536536      block13_sepconv1_act[0][0]       \n",
      "__________________________________________________________________________________________________\n",
      "block13_sepconv1_bn (BatchNorma (None, 19, 19, 728)  2912        block13_sepconv1[0][0]           \n",
      "__________________________________________________________________________________________________\n",
      "block13_sepconv2_act (Activatio (None, 19, 19, 728)  0           block13_sepconv1_bn[0][0]        \n",
      "__________________________________________________________________________________________________\n",
      "block13_sepconv2 (SeparableConv (None, 19, 19, 1024) 752024      block13_sepconv2_act[0][0]       \n",
      "__________________________________________________________________________________________________\n",
      "block13_sepconv2_bn (BatchNorma (None, 19, 19, 1024) 4096        block13_sepconv2[0][0]           \n",
      "__________________________________________________________________________________________________\n",
      "conv2d_44 (Conv2D)              (None, 10, 10, 1024) 745472      add_131[0][0]                    \n",
      "__________________________________________________________________________________________________\n",
      "block13_pool (MaxPooling2D)     (None, 10, 10, 1024) 0           block13_sepconv2_bn[0][0]        \n",
      "__________________________________________________________________________________________________\n",
      "batch_normalization_44 (BatchNo (None, 10, 10, 1024) 4096        conv2d_44[0][0]                  \n",
      "__________________________________________________________________________________________________\n",
      "add_132 (Add)                   (None, 10, 10, 1024) 0           block13_pool[0][0]               \n",
      "                                                                 batch_normalization_44[0][0]     \n",
      "__________________________________________________________________________________________________\n",
      "block14_sepconv1 (SeparableConv (None, 10, 10, 1536) 1582080     add_132[0][0]                    \n",
      "__________________________________________________________________________________________________\n",
      "block14_sepconv1_bn (BatchNorma (None, 10, 10, 1536) 6144        block14_sepconv1[0][0]           \n",
      "__________________________________________________________________________________________________\n",
      "block14_sepconv1_act (Activatio (None, 10, 10, 1536) 0           block14_sepconv1_bn[0][0]        \n",
      "__________________________________________________________________________________________________\n",
      "block14_sepconv2 (SeparableConv (None, 10, 10, 2048) 3159552     block14_sepconv1_act[0][0]       \n",
      "__________________________________________________________________________________________________\n",
      "block14_sepconv2_bn (BatchNorma (None, 10, 10, 2048) 8192        block14_sepconv2[0][0]           \n",
      "__________________________________________________________________________________________________\n",
      "block14_sepconv2_act (Activatio (None, 10, 10, 2048) 0           block14_sepconv2_bn[0][0]        \n",
      "__________________________________________________________________________________________________\n",
      "average_pooling2d_16 (AveragePo (None, 1, 1, 2048)   0           block14_sepconv2_act[0][0]       \n",
      "__________________________________________________________________________________________________\n",
      "dropout_41 (Dropout)            (None, 1, 1, 2048)   0           average_pooling2d_16[0][0]       \n",
      "__________________________________________________________________________________________________\n",
      "flatten_21 (Flatten)            (None, 2048)         0           dropout_41[0][0]                 \n",
      "__________________________________________________________________________________________________\n",
      "dense_41 (Dense)                (None, 1024)         2098176     flatten_21[0][0]                 \n",
      "__________________________________________________________________________________________________\n",
      "dropout_42 (Dropout)            (None, 1024)         0           dense_41[0][0]                   \n",
      "__________________________________________________________________________________________________\n",
      "dense_42 (Dense)                (None, 7)            7175        dropout_42[0][0]                 \n",
      "==================================================================================================\n",
      "Total params: 22,966,831\n",
      "Trainable params: 2,105,351\n",
      "Non-trainable params: 20,861,480\n",
      "__________________________________________________________________________________________________\n"
     ]
    }
   ],
   "source": [
    "# On rajoute nos couches à la fin \n",
    "\n",
    "model = nouvelle_couche(model_xception, nb_classes)\n",
    "\n",
    "# On met en place le freeze, jusqu'à la couche 127. \n",
    "\n",
    "freeze_full(model,model_xception)\n",
    "#freeze_some(model,model_xception,127)"
   ]
  },
  {
   "cell_type": "markdown",
   "metadata": {},
   "source": [
    "## Mise en place du dataset  : \n",
    "\n",
    "On s'interesse aux différentes expressions du visages. Nous allons utiliser 4 classes : \n",
    "\n",
    "- heureux\n",
    "- neutre\n",
    "- peur\n",
    "- colère\n",
    "\n"
   ]
  },
  {
   "cell_type": "markdown",
   "metadata": {},
   "source": [
    "On va utiliser les fonctionnalitées de Keras, on énonce d'abord nos différents paramètres : "
   ]
  },
  {
   "cell_type": "code",
   "execution_count": 151,
   "metadata": {},
   "outputs": [
    {
     "name": "stdout",
     "output_type": "stream",
     "text": [
      "done.\n"
     ]
    }
   ],
   "source": [
    "## Pour l'entrainement : \n",
    "#On limite ces paramètre, comme on travail sur des visages.\n",
    "\n",
    "# ======================\n",
    "\n",
    "\n",
    "rotationTrain = 5 \n",
    "width_shiftTrain = 0.1\n",
    "height_shiftTrain = 0.1\n",
    "shearTrain = 0.1\n",
    "zoomTrain = 0.05\n",
    "flipTrain = False\n",
    "\n",
    "## Pour les test : \n",
    "\n",
    "# ==============\n",
    "\n",
    "rotationTest = 0. \n",
    "width_shiftTest = 0.1\n",
    "height_shiftTest = 0.1\n",
    "shearTest = 0.1\n",
    "zoomTest = 0.05\n",
    "flipTest = False\n",
    "\n",
    "print(\"done.\")"
   ]
  },
  {
   "cell_type": "markdown",
   "metadata": {},
   "source": [
    "On peut maintenant créer nos différents [ImageDataGenerator](https://keras.io/preprocessing/image/)\n",
    "Les data pour les test et la validations seront les même. "
   ]
  },
  {
   "cell_type": "code",
   "execution_count": 152,
   "metadata": {},
   "outputs": [
    {
     "name": "stdout",
     "output_type": "stream",
     "text": [
      "done.\n"
     ]
    }
   ],
   "source": [
    "\n",
    "\n",
    "trainDataGenerator = ImageDataGenerator(\n",
    "        rotation_range= rotationTrain,\n",
    "        width_shift_range= width_shiftTrain,\n",
    "        height_shift_range= height_shiftTrain,\n",
    "        shear_range= shearTrain,\n",
    "        zoom_range= zoomTrain,\n",
    "        rescale=1./255,\n",
    "        horizontal_flip= flipTrain,\n",
    "        vertical_flip =  flipTrain,\n",
    "        fill_mode='nearest')\n",
    "\n",
    "testDataGenerator = ImageDataGenerator(\n",
    "        rotation_range= rotationTest,\n",
    "        width_shift_range= width_shiftTest,\n",
    "        height_shift_range= height_shiftTest,\n",
    "        shear_range= shearTest,\n",
    "        zoom_range= zoomTest,\n",
    "        rescale=1./255,\n",
    "        horizontal_flip= flipTest,\n",
    "        vertical_flip = flipTest,\n",
    "        fill_mode='nearest')\n",
    "\n",
    "print(\"done.\")"
   ]
  },
  {
   "cell_type": "markdown",
   "metadata": {},
   "source": [
    "Les data sont en .zip sur GitHub. \n",
    "Elles sont placées en 2 dossiers : un training, et un validation. \n",
    "Chacun de ces deux dossiers comprend ensuite 4 dossiers : angry, frigthened, happy et neutral.\n",
    "\n",
    "Ces différents dossiers comprennent les images que nous allons utiliser. "
   ]
  },
  {
   "cell_type": "markdown",
   "metadata": {},
   "source": [
    "## On met ici en place les directions pour ces dossiers (à changer modifier)"
   ]
  },
  {
   "cell_type": "code",
   "execution_count": 153,
   "metadata": {},
   "outputs": [
    {
     "name": "stdout",
     "output_type": "stream",
     "text": [
      "done.\n"
     ]
    }
   ],
   "source": [
    "\n",
    "\n",
    "trainImg = '/Users/paulgarnier/Desktop/Files/Cours/Mines/2A/ApprentissageArtificiel/training/' \n",
    "validationImg = '/Users/paulgarnier/Desktop/Files/Cours/Mines/2A/ApprentissageArtificiel/validation/'\n",
    "\n",
    "print(\"done.\")"
   ]
  },
  {
   "cell_type": "markdown",
   "metadata": {},
   "source": [
    "Finalement, on lance nos dataGenerator avec ces images :  "
   ]
  },
  {
   "cell_type": "code",
   "execution_count": 154,
   "metadata": {},
   "outputs": [
    {
     "name": "stdout",
     "output_type": "stream",
     "text": [
      "Found 350 images belonging to 7 classes.\n",
      "Found 70 images belonging to 7 classes.\n",
      "done.\n"
     ]
    }
   ],
   "source": [
    "\n",
    "trainGenerator = trainDataGenerator.flow_from_directory(\n",
    "                    trainImg,\n",
    "                    target_size=(WIDTH,HEIGHT),\n",
    "                    batch_size=BAT_SIZE,\n",
    "                    color_mode='rgb',\n",
    "                    class_mode='categorical')\n",
    "testGenerator = testDataGenerator.flow_from_directory(\n",
    "                    validationImg,\n",
    "                    target_size=(WIDTH,HEIGHT),\n",
    "                    batch_size=BAT_SIZE_TEST,\n",
    "                    color_mode='rgb',\n",
    "                    class_mode='categorical') \n",
    "print(\"done.\")"
   ]
  },
  {
   "cell_type": "markdown",
   "metadata": {},
   "source": [
    "## Entraînement du modèle : \n",
    "\n",
    "On peut maintenant entrainer le modèle, puis analyser nos résultats. \n",
    "On définit tout d'abord le nom de notre modèle pour pouvoir le save sur notre ordinateur."
   ]
  },
  {
   "cell_type": "code",
   "execution_count": 155,
   "metadata": {},
   "outputs": [
    {
     "name": "stdout",
     "output_type": "stream",
     "text": [
      "done.\n"
     ]
    }
   ],
   "source": [
    "saveName = \"xception-face.model\"\n",
    "print(\"done.\")"
   ]
  },
  {
   "cell_type": "code",
   "execution_count": 156,
   "metadata": {},
   "outputs": [
    {
     "name": "stdout",
     "output_type": "stream",
     "text": [
      "Epoch 1/20\n",
      "13/12 [===============================] - 102s 8s/step - loss: 1.9591 - acc: 0.3413 - val_loss: 1.2635 - val_acc: 0.6000\n",
      "Epoch 2/20\n",
      "13/12 [===============================] - 93s 7s/step - loss: 1.3904 - acc: 0.4885 - val_loss: 1.1226 - val_acc: 0.6579\n",
      "Epoch 3/20\n",
      "13/12 [===============================] - 93s 7s/step - loss: 1.1621 - acc: 0.5962 - val_loss: 0.7057 - val_acc: 0.8250\n",
      "Epoch 4/20\n",
      "13/12 [===============================] - 97s 7s/step - loss: 0.8939 - acc: 0.6690 - val_loss: 0.7986 - val_acc: 0.6842\n",
      "Epoch 5/20\n",
      "13/12 [===============================] - 95s 7s/step - loss: 0.8286 - acc: 0.6971 - val_loss: 0.9779 - val_acc: 0.5750\n",
      "Epoch 6/20\n",
      "13/12 [===============================] - 94s 7s/step - loss: 0.8153 - acc: 0.7396 - val_loss: 0.5490 - val_acc: 0.8421\n",
      "Epoch 7/20\n",
      "13/12 [===============================] - 98s 8s/step - loss: 0.7275 - acc: 0.7364 - val_loss: 0.6952 - val_acc: 0.8250\n",
      "Epoch 8/20\n",
      "13/12 [===============================] - 89s 7s/step - loss: 0.6687 - acc: 0.7644 - val_loss: 0.7084 - val_acc: 0.7368\n",
      "Epoch 9/20\n",
      "13/12 [===============================] - 86s 7s/step - loss: 0.7375 - acc: 0.7630 - val_loss: 0.5521 - val_acc: 0.8684\n",
      "Epoch 10/20\n",
      "13/12 [===============================] - 84s 6s/step - loss: 0.6124 - acc: 0.7981 - val_loss: 0.7554 - val_acc: 0.7250\n",
      "Epoch 11/20\n",
      "13/12 [===============================] - 82s 6s/step - loss: 0.5897 - acc: 0.7678 - val_loss: 0.4460 - val_acc: 0.8684\n",
      "Epoch 12/20\n",
      "13/12 [===============================] - 80s 6s/step - loss: 0.5401 - acc: 0.8303 - val_loss: 0.5647 - val_acc: 0.8750\n",
      "Epoch 13/20\n",
      "13/12 [===============================] - 82s 6s/step - loss: 0.5533 - acc: 0.8173 - val_loss: 0.8733 - val_acc: 0.7368\n",
      "Epoch 14/20\n",
      "13/12 [===============================] - 85s 7s/step - loss: 0.4995 - acc: 0.8387 - val_loss: 0.5254 - val_acc: 0.8500\n",
      "Epoch 15/20\n",
      "13/12 [===============================] - 80s 6s/step - loss: 0.5001 - acc: 0.8125 - val_loss: 0.6215 - val_acc: 0.8158\n",
      "Epoch 16/20\n",
      "13/12 [===============================] - 78s 6s/step - loss: 0.3987 - acc: 0.8881 - val_loss: 0.6344 - val_acc: 0.8250\n",
      "Epoch 17/20\n",
      "13/12 [===============================] - 76s 6s/step - loss: 0.4412 - acc: 0.8303 - val_loss: 0.4382 - val_acc: 0.8158\n",
      "Epoch 18/20\n",
      "13/12 [===============================] - 78s 6s/step - loss: 0.5339 - acc: 0.8221 - val_loss: 0.8886 - val_acc: 0.7105\n",
      "Epoch 19/20\n",
      "13/12 [===============================] - 78s 6s/step - loss: 0.5427 - acc: 0.8056 - val_loss: 0.5449 - val_acc: 0.8250\n",
      "Epoch 20/20\n",
      "13/12 [===============================] - 77s 6s/step - loss: 0.3921 - acc: 0.8510 - val_loss: 0.5891 - val_acc: 0.8421\n",
      "done.\n"
     ]
    }
   ],
   "source": [
    "## et on lance le training : \n",
    "## ========================\n",
    "\n",
    "history = model.fit_generator(trainGenerator,\n",
    "                              steps_per_epoch=NB_IMG_TRAIN/BAT_SIZE,\n",
    "                              epochs=20,\n",
    "                              validation_data=testGenerator,\n",
    "                              validation_steps=NB_IMG_VAL/BAT_SIZE_TEST,\n",
    "                                 verbose=1) \n",
    "\n",
    "\n",
    "model.save(saveName)\n",
    "print(\"done.\")"
   ]
  },
  {
   "cell_type": "code",
   "execution_count": 157,
   "metadata": {},
   "outputs": [
    {
     "data": {
      "image/png": "[encoded data removed]",
      "text/plain": [
       "<Figure size 432x288 with 1 Axes>"
      ]
     },
     "metadata": {},
     "output_type": "display_data"
    },
    {
     "data": {
      "image/png": "[encoded data removed]",
      "text/plain": [
       "<Figure size 432x288 with 1 Axes>"
      ]
     },
     "metadata": {},
     "output_type": "display_data"
    }
   ],
   "source": [
    "## et on affiche les différents résultats : \n",
    "## =======================================\n",
    "\n",
    "plt.plot(history.history['loss'])\n",
    "plt.plot(history.history['val_loss'])\n",
    "plt.title('Model loss by epoch')\n",
    "plt.ylabel('loss')\n",
    "plt.xlabel('epoch')\n",
    "plt.legend(['train', 'valid'], loc='right')\n",
    "plt.show()\n",
    "\n",
    "plt.plot(history.history['acc'])\n",
    "plt.plot(history.history['val_acc'])\n",
    "plt.title('Model accuracy by epoch')\n",
    "plt.ylabel('accuracy')\n",
    "plt.legend(['train', 'valid'], loc='right')\n",
    "plt.xlabel('epoch')\n",
    "plt.show()"
   ]
  },
  {
   "cell_type": "code",
   "execution_count": null,
   "metadata": {},
   "outputs": [],
   "source": []
  }
 ],
 "metadata": {
  "kernelspec": {
   "display_name": "Python 3",
   "language": "python",
   "name": "python3"
  },
  "language_info": {
   "codemirror_mode": {
    "name": "ipython",
    "version": 3
   },
   "file_extension": ".py",
   "mimetype": "text/x-python",
   "name": "python",
   "nbconvert_exporter": "python",
   "pygments_lexer": "ipython3",
   "version": "3.6.5"
  }
 },
 "nbformat": 4,
 "nbformat_minor": 1
}
