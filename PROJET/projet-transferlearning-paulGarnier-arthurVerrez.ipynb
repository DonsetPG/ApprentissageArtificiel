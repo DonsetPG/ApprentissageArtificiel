{
 "cells": [
  {
   "cell_type": "markdown",
   "metadata": {},
   "source": [
    "## Mini Projet Apprentissage Artificel : Groupe Paul Garnier - Arthur Verrez\n",
    "\n",
    "(à rendre pour le vendredi 16/11/18)"
   ]
  },
  {
   "cell_type": "markdown",
   "metadata": {},
   "source": [
    "Choix du sujet : Transfer Learning "
   ]
  },
  {
   "cell_type": "markdown",
   "metadata": {},
   "source": [
    "Nous allons utiliser le ConvNet construit par Google et notamment François Chollet : [Papier d'origine](https://arxiv.org/abs/1610.02357)"
   ]
  },
  {
   "cell_type": "markdown",
   "metadata": {},
   "source": [
    "Le réseau se base sur des modules, que l'on présente ci-dessous : \n",
    "\n",
    "![inception-module](inception-module.png \"Module Inception V3\")"
   ]
  },
  {
   "cell_type": "markdown",
   "metadata": {},
   "source": [
    "Chacun de ces modules vont \"s'empiler\" pour former notre réseau total. On présente sa forme complète ci-dessous : \n",
    "\n",
    "![xception](xception.png \"Xception ConvNet\")"
   ]
  },
  {
   "cell_type": "markdown",
   "metadata": {},
   "source": [
    "C'est un réseau qui obtient de très bonnes performances, tout en limitant son nombre de paramètres (22 millions de paramètres). \n",
    "\n",
    "![xception-resultats](xception-resultats.png \"Xception ConvNet\")"
   ]
  },
  {
   "cell_type": "markdown",
   "metadata": {},
   "source": [
    "## Mise en place du modèle : \n",
    "\n",
    "Nous allons commencer par mettre en place nos ConvNet, ainsi que les modules dont nous auront besoin : "
   ]
  },
  {
   "cell_type": "code",
   "execution_count": 2,
   "metadata": {},
   "outputs": [
    {
     "name": "stderr",
     "output_type": "stream",
     "text": [
      "/Users/paulgarnier/anaconda3/lib/python3.6/site-packages/h5py/__init__.py:36: FutureWarning: Conversion of the second argument of issubdtype from `float` to `np.floating` is deprecated. In future, it will be treated as `np.float64 == np.dtype(float).type`.\n",
      "  from ._conv import register_converters as _register_converters\n",
      "Using TensorFlow backend.\n"
     ]
    },
    {
     "name": "stdout",
     "output_type": "stream",
     "text": [
      "done.\n"
     ]
    }
   ],
   "source": [
    "## Imports des différents modules, hors Keras: \n",
    "## ===============================\n",
    "\n",
    "import os\n",
    "import copy\n",
    "import sys\n",
    "\n",
    "# et pour l'affichage : \n",
    "\n",
    "import matplotlib\n",
    "%matplotlib inline\n",
    "import matplotlib.pyplot as plt\n",
    "\n",
    "# Pour Keras : \n",
    "\n",
    "\n",
    "from keras import backend as K\n",
    "from keras import __version__\n",
    "\n",
    "# Pour charger notre modèle : \n",
    "from keras.applications.xception import Xception, preprocess_input\n",
    "from keras.models import Model\n",
    "from keras.models import load_model\n",
    "\n",
    "# Pour modifier notre modèle : \n",
    "\n",
    "from keras.layers import Dense, MaxPooling2D, AveragePooling2D, GlobalAveragePooling2D, Input, Flatten, Dropout\n",
    "from keras.optimizers import SGD\n",
    "\n",
    "# Pour modifier nos images et les utiliser : \n",
    "\n",
    "from keras.preprocessing.image import ImageDataGenerator\n",
    "print(\"done.\")"
   ]
  },
  {
   "cell_type": "markdown",
   "metadata": {},
   "source": [
    "Nous allons maintenant configurer les paramètres que nous allons utiliser :  "
   ]
  },
  {
   "cell_type": "code",
   "execution_count": 4,
   "metadata": {},
   "outputs": [
    {
     "name": "stdout",
     "output_type": "stream",
     "text": [
      "done.\n"
     ]
    }
   ],
   "source": [
    "WIDTH, HEIGHT = 299, 299 #fixed size for InceptionV3\n",
    "CHANNEL = 3\n",
    "NB_EPOCHS = 10\n",
    "BAT_SIZE = 16\n",
    "FC_SIZE = 1024\n",
    "NB_IMG_TRAIN = 200\n",
    "NB_IMG_VAL = 40\n",
    "BAT_SIZE_TEST = 4\n",
    "nb_classes = 7\n",
    "print(\"done.\")"
   ]
  },
  {
   "cell_type": "markdown",
   "metadata": {},
   "source": [
    "On peut maintenant charger notre modèle : "
   ]
  },
  {
   "cell_type": "code",
   "execution_count": 5,
   "metadata": {},
   "outputs": [
    {
     "name": "stdout",
     "output_type": "stream",
     "text": [
      "done.\n"
     ]
    }
   ],
   "source": [
    "model_xception = Xception(input_tensor = Input(shape=(WIDTH,HEIGHT,CHANNEL)),\n",
    "                          weights='imagenet', # On le prend, pre-trained sur imagesnet. \n",
    "                          include_top=False) # Pour enlever la couche Dense(1000) de classification\n",
    "print(\"done.\")"
   ]
  },
  {
   "cell_type": "markdown",
   "metadata": {},
   "source": [
    "On va maintenant construire nos fonctions pour le transfer learning. \n",
    "\n",
    "Globalement, cela représente : \n",
    "\n",
    "- une fonction pour modifier notre réseau (changer les dernières couches)\n",
    "- une fonction pour freeze l'entrainement de toutes les couches, sauf la dernière\n",
    "- une fonction pour freeze l'entrainement d'une nombre choisit de couches (fine tunning)\n"
   ]
  },
  {
   "cell_type": "code",
   "execution_count": 6,
   "metadata": {},
   "outputs": [
    {
     "name": "stdout",
     "output_type": "stream",
     "text": [
      "done.\n"
     ]
    }
   ],
   "source": [
    "\"\"\"\n",
    "On rajoute des nouvelles couches à notre modèle, et on le retourne\n",
    "\n",
    "\"\"\"\n",
    "\n",
    "def nouvelle_couche(model, nb_classes):\n",
    "    x = model.output\n",
    "    x = AveragePooling2D((10,10), padding='valid')(x) # On place un avg_pooling de taille 10x10 pour limiter les paramètres\n",
    "    x = Dropout(0.7)(x) # On place du dropout, pour éviter l'overfitting.\n",
    "    x = Flatten()(x) \n",
    "    x = Dense(2048,activation='relu')(x)\n",
    "    x = Dropout(0.7)(x)\n",
    "    predictions = Dense(nb_classes, activation='softmax')(x)\n",
    "    new_model = Model(inputs=model.input, outputs=predictions)\n",
    "    return new_model\n",
    "\n",
    "print(\"done.\")"
   ]
  },
  {
   "cell_type": "code",
   "execution_count": 7,
   "metadata": {},
   "outputs": [
    {
     "name": "stdout",
     "output_type": "stream",
     "text": [
      "done.\n"
     ]
    }
   ],
   "source": [
    "\"\"\"\n",
    "On freeze l'intégralité des couches de notre premier modèle : ici le xception.\n",
    "On compile ensuite notre modèle total et on affiche sa structure.\n",
    "On renvoie aussi le nombre de couches.\n",
    "\"\"\"\n",
    "\n",
    "def freeze_full(new_model, model): \n",
    "    print(\"Nombre de couche dans le modèle de base := {}\".format(len(model.layers)))\n",
    "    for layer in model.layers:\n",
    "        layer.trainable = False\n",
    "    new_model.compile(optimizer='adam',\n",
    "                  loss='categorical_crossentropy',\n",
    "                  metrics=['accuracy'])\n",
    "    new_model.summary()\n",
    "    \n",
    "print(\"done.\")"
   ]
  },
  {
   "cell_type": "code",
   "execution_count": 8,
   "metadata": {},
   "outputs": [
    {
     "name": "stdout",
     "output_type": "stream",
     "text": [
      "done.\n"
     ]
    }
   ],
   "source": [
    "\"\"\"\n",
    "Ici, on ne freeze les couches que jusqu'à un certains index : \n",
    "\"\"\"\n",
    "\n",
    "def freeze_some(new_model,model,indx):\n",
    "    cpt = 0\n",
    "    for layer in model.layers:\n",
    "        layer.trainable = False\n",
    "        cpt+=1\n",
    "        if cpt > indx:\n",
    "            break \n",
    "    new_model.compile(optimizer='adam',\n",
    "                  loss='categorical_crossentropy',\n",
    "                  metrics=['accuracy'])\n",
    "    new_model.summary()\n",
    "    \n",
    "print(\"done.\")"
   ]
  },
  {
   "cell_type": "markdown",
   "metadata": {},
   "source": [
    "Il reste maintenant à mettre en place tout notre modèle.\n",
    "Pour l'instant, on évite des choix de paramètres tricky, et on freeze tout le Xception de départ : "
   ]
  },
  {
   "cell_type": "code",
   "execution_count": 9,
   "metadata": {},
   "outputs": [
    {
     "name": "stdout",
     "output_type": "stream",
     "text": [
      "Nombre de couche dans le modèle de base := 132\n",
      "__________________________________________________________________________________________________\n",
      "Layer (type)                    Output Shape         Param #     Connected to                     \n",
      "==================================================================================================\n",
      "input_1 (InputLayer)            (None, 299, 299, 3)  0                                            \n",
      "__________________________________________________________________________________________________\n",
      "block1_conv1 (Conv2D)           (None, 149, 149, 32) 864         input_1[0][0]                    \n",
      "__________________________________________________________________________________________________\n",
      "block1_conv1_bn (BatchNormaliza (None, 149, 149, 32) 128         block1_conv1[0][0]               \n",
      "__________________________________________________________________________________________________\n",
      "block1_conv1_act (Activation)   (None, 149, 149, 32) 0           block1_conv1_bn[0][0]            \n",
      "__________________________________________________________________________________________________\n",
      "block1_conv2 (Conv2D)           (None, 147, 147, 64) 18432       block1_conv1_act[0][0]           \n",
      "__________________________________________________________________________________________________\n",
      "block1_conv2_bn (BatchNormaliza (None, 147, 147, 64) 256         block1_conv2[0][0]               \n",
      "__________________________________________________________________________________________________\n",
      "block1_conv2_act (Activation)   (None, 147, 147, 64) 0           block1_conv2_bn[0][0]            \n",
      "__________________________________________________________________________________________________\n",
      "block2_sepconv1 (SeparableConv2 (None, 147, 147, 128 8768        block1_conv2_act[0][0]           \n",
      "__________________________________________________________________________________________________\n",
      "block2_sepconv1_bn (BatchNormal (None, 147, 147, 128 512         block2_sepconv1[0][0]            \n",
      "__________________________________________________________________________________________________\n",
      "block2_sepconv2_act (Activation (None, 147, 147, 128 0           block2_sepconv1_bn[0][0]         \n",
      "__________________________________________________________________________________________________\n",
      "block2_sepconv2 (SeparableConv2 (None, 147, 147, 128 17536       block2_sepconv2_act[0][0]        \n",
      "__________________________________________________________________________________________________\n",
      "block2_sepconv2_bn (BatchNormal (None, 147, 147, 128 512         block2_sepconv2[0][0]            \n",
      "__________________________________________________________________________________________________\n",
      "conv2d_1 (Conv2D)               (None, 74, 74, 128)  8192        block1_conv2_act[0][0]           \n",
      "__________________________________________________________________________________________________\n",
      "block2_pool (MaxPooling2D)      (None, 74, 74, 128)  0           block2_sepconv2_bn[0][0]         \n",
      "__________________________________________________________________________________________________\n",
      "batch_normalization_1 (BatchNor (None, 74, 74, 128)  512         conv2d_1[0][0]                   \n",
      "__________________________________________________________________________________________________\n",
      "add_1 (Add)                     (None, 74, 74, 128)  0           block2_pool[0][0]                \n",
      "                                                                 batch_normalization_1[0][0]      \n",
      "__________________________________________________________________________________________________\n",
      "block3_sepconv1_act (Activation (None, 74, 74, 128)  0           add_1[0][0]                      \n",
      "__________________________________________________________________________________________________\n",
      "block3_sepconv1 (SeparableConv2 (None, 74, 74, 256)  33920       block3_sepconv1_act[0][0]        \n",
      "__________________________________________________________________________________________________\n",
      "block3_sepconv1_bn (BatchNormal (None, 74, 74, 256)  1024        block3_sepconv1[0][0]            \n",
      "__________________________________________________________________________________________________\n",
      "block3_sepconv2_act (Activation (None, 74, 74, 256)  0           block3_sepconv1_bn[0][0]         \n",
      "__________________________________________________________________________________________________\n",
      "block3_sepconv2 (SeparableConv2 (None, 74, 74, 256)  67840       block3_sepconv2_act[0][0]        \n",
      "__________________________________________________________________________________________________\n",
      "block3_sepconv2_bn (BatchNormal (None, 74, 74, 256)  1024        block3_sepconv2[0][0]            \n",
      "__________________________________________________________________________________________________\n",
      "conv2d_2 (Conv2D)               (None, 37, 37, 256)  32768       add_1[0][0]                      \n",
      "__________________________________________________________________________________________________\n",
      "block3_pool (MaxPooling2D)      (None, 37, 37, 256)  0           block3_sepconv2_bn[0][0]         \n",
      "__________________________________________________________________________________________________\n",
      "batch_normalization_2 (BatchNor (None, 37, 37, 256)  1024        conv2d_2[0][0]                   \n",
      "__________________________________________________________________________________________________\n",
      "add_2 (Add)                     (None, 37, 37, 256)  0           block3_pool[0][0]                \n",
      "                                                                 batch_normalization_2[0][0]      \n",
      "__________________________________________________________________________________________________\n",
      "block4_sepconv1_act (Activation (None, 37, 37, 256)  0           add_2[0][0]                      \n",
      "__________________________________________________________________________________________________\n",
      "block4_sepconv1 (SeparableConv2 (None, 37, 37, 728)  188672      block4_sepconv1_act[0][0]        \n",
      "__________________________________________________________________________________________________\n",
      "block4_sepconv1_bn (BatchNormal (None, 37, 37, 728)  2912        block4_sepconv1[0][0]            \n",
      "__________________________________________________________________________________________________\n",
      "block4_sepconv2_act (Activation (None, 37, 37, 728)  0           block4_sepconv1_bn[0][0]         \n",
      "__________________________________________________________________________________________________\n",
      "block4_sepconv2 (SeparableConv2 (None, 37, 37, 728)  536536      block4_sepconv2_act[0][0]        \n",
      "__________________________________________________________________________________________________\n",
      "block4_sepconv2_bn (BatchNormal (None, 37, 37, 728)  2912        block4_sepconv2[0][0]            \n",
      "__________________________________________________________________________________________________\n",
      "conv2d_3 (Conv2D)               (None, 19, 19, 728)  186368      add_2[0][0]                      \n",
      "__________________________________________________________________________________________________\n",
      "block4_pool (MaxPooling2D)      (None, 19, 19, 728)  0           block4_sepconv2_bn[0][0]         \n",
      "__________________________________________________________________________________________________\n",
      "batch_normalization_3 (BatchNor (None, 19, 19, 728)  2912        conv2d_3[0][0]                   \n",
      "__________________________________________________________________________________________________\n",
      "add_3 (Add)                     (None, 19, 19, 728)  0           block4_pool[0][0]                \n",
      "                                                                 batch_normalization_3[0][0]      \n",
      "__________________________________________________________________________________________________\n",
      "block5_sepconv1_act (Activation (None, 19, 19, 728)  0           add_3[0][0]                      \n",
      "__________________________________________________________________________________________________\n",
      "block5_sepconv1 (SeparableConv2 (None, 19, 19, 728)  536536      block5_sepconv1_act[0][0]        \n",
      "__________________________________________________________________________________________________\n",
      "block5_sepconv1_bn (BatchNormal (None, 19, 19, 728)  2912        block5_sepconv1[0][0]            \n",
      "__________________________________________________________________________________________________\n",
      "block5_sepconv2_act (Activation (None, 19, 19, 728)  0           block5_sepconv1_bn[0][0]         \n",
      "__________________________________________________________________________________________________\n",
      "block5_sepconv2 (SeparableConv2 (None, 19, 19, 728)  536536      block5_sepconv2_act[0][0]        \n",
      "__________________________________________________________________________________________________\n",
      "block5_sepconv2_bn (BatchNormal (None, 19, 19, 728)  2912        block5_sepconv2[0][0]            \n",
      "__________________________________________________________________________________________________\n",
      "block5_sepconv3_act (Activation (None, 19, 19, 728)  0           block5_sepconv2_bn[0][0]         \n",
      "__________________________________________________________________________________________________\n",
      "block5_sepconv3 (SeparableConv2 (None, 19, 19, 728)  536536      block5_sepconv3_act[0][0]        \n",
      "__________________________________________________________________________________________________\n",
      "block5_sepconv3_bn (BatchNormal (None, 19, 19, 728)  2912        block5_sepconv3[0][0]            \n",
      "__________________________________________________________________________________________________\n",
      "add_4 (Add)                     (None, 19, 19, 728)  0           block5_sepconv3_bn[0][0]         \n",
      "                                                                 add_3[0][0]                      \n",
      "__________________________________________________________________________________________________\n",
      "block6_sepconv1_act (Activation (None, 19, 19, 728)  0           add_4[0][0]                      \n",
      "__________________________________________________________________________________________________\n",
      "block6_sepconv1 (SeparableConv2 (None, 19, 19, 728)  536536      block6_sepconv1_act[0][0]        \n",
      "__________________________________________________________________________________________________\n",
      "block6_sepconv1_bn (BatchNormal (None, 19, 19, 728)  2912        block6_sepconv1[0][0]            \n",
      "__________________________________________________________________________________________________\n",
      "block6_sepconv2_act (Activation (None, 19, 19, 728)  0           block6_sepconv1_bn[0][0]         \n",
      "__________________________________________________________________________________________________\n",
      "block6_sepconv2 (SeparableConv2 (None, 19, 19, 728)  536536      block6_sepconv2_act[0][0]        \n",
      "__________________________________________________________________________________________________\n",
      "block6_sepconv2_bn (BatchNormal (None, 19, 19, 728)  2912        block6_sepconv2[0][0]            \n",
      "__________________________________________________________________________________________________\n",
      "block6_sepconv3_act (Activation (None, 19, 19, 728)  0           block6_sepconv2_bn[0][0]         \n",
      "__________________________________________________________________________________________________\n",
      "block6_sepconv3 (SeparableConv2 (None, 19, 19, 728)  536536      block6_sepconv3_act[0][0]        \n",
      "__________________________________________________________________________________________________\n",
      "block6_sepconv3_bn (BatchNormal (None, 19, 19, 728)  2912        block6_sepconv3[0][0]            \n",
      "__________________________________________________________________________________________________\n",
      "add_5 (Add)                     (None, 19, 19, 728)  0           block6_sepconv3_bn[0][0]         \n",
      "                                                                 add_4[0][0]                      \n",
      "__________________________________________________________________________________________________\n",
      "block7_sepconv1_act (Activation (None, 19, 19, 728)  0           add_5[0][0]                      \n",
      "__________________________________________________________________________________________________\n",
      "block7_sepconv1 (SeparableConv2 (None, 19, 19, 728)  536536      block7_sepconv1_act[0][0]        \n",
      "__________________________________________________________________________________________________\n",
      "block7_sepconv1_bn (BatchNormal (None, 19, 19, 728)  2912        block7_sepconv1[0][0]            \n",
      "__________________________________________________________________________________________________\n",
      "block7_sepconv2_act (Activation (None, 19, 19, 728)  0           block7_sepconv1_bn[0][0]         \n",
      "__________________________________________________________________________________________________\n",
      "block7_sepconv2 (SeparableConv2 (None, 19, 19, 728)  536536      block7_sepconv2_act[0][0]        \n",
      "__________________________________________________________________________________________________\n",
      "block7_sepconv2_bn (BatchNormal (None, 19, 19, 728)  2912        block7_sepconv2[0][0]            \n",
      "__________________________________________________________________________________________________\n",
      "block7_sepconv3_act (Activation (None, 19, 19, 728)  0           block7_sepconv2_bn[0][0]         \n",
      "__________________________________________________________________________________________________\n",
      "block7_sepconv3 (SeparableConv2 (None, 19, 19, 728)  536536      block7_sepconv3_act[0][0]        \n",
      "__________________________________________________________________________________________________\n",
      "block7_sepconv3_bn (BatchNormal (None, 19, 19, 728)  2912        block7_sepconv3[0][0]            \n",
      "__________________________________________________________________________________________________\n",
      "add_6 (Add)                     (None, 19, 19, 728)  0           block7_sepconv3_bn[0][0]         \n",
      "                                                                 add_5[0][0]                      \n",
      "__________________________________________________________________________________________________\n",
      "block8_sepconv1_act (Activation (None, 19, 19, 728)  0           add_6[0][0]                      \n",
      "__________________________________________________________________________________________________\n",
      "block8_sepconv1 (SeparableConv2 (None, 19, 19, 728)  536536      block8_sepconv1_act[0][0]        \n",
      "__________________________________________________________________________________________________\n",
      "block8_sepconv1_bn (BatchNormal (None, 19, 19, 728)  2912        block8_sepconv1[0][0]            \n",
      "__________________________________________________________________________________________________\n",
      "block8_sepconv2_act (Activation (None, 19, 19, 728)  0           block8_sepconv1_bn[0][0]         \n",
      "__________________________________________________________________________________________________\n",
      "block8_sepconv2 (SeparableConv2 (None, 19, 19, 728)  536536      block8_sepconv2_act[0][0]        \n",
      "__________________________________________________________________________________________________\n",
      "block8_sepconv2_bn (BatchNormal (None, 19, 19, 728)  2912        block8_sepconv2[0][0]            \n",
      "__________________________________________________________________________________________________\n",
      "block8_sepconv3_act (Activation (None, 19, 19, 728)  0           block8_sepconv2_bn[0][0]         \n",
      "__________________________________________________________________________________________________\n",
      "block8_sepconv3 (SeparableConv2 (None, 19, 19, 728)  536536      block8_sepconv3_act[0][0]        \n",
      "__________________________________________________________________________________________________\n",
      "block8_sepconv3_bn (BatchNormal (None, 19, 19, 728)  2912        block8_sepconv3[0][0]            \n",
      "__________________________________________________________________________________________________\n",
      "add_7 (Add)                     (None, 19, 19, 728)  0           block8_sepconv3_bn[0][0]         \n",
      "                                                                 add_6[0][0]                      \n",
      "__________________________________________________________________________________________________\n",
      "block9_sepconv1_act (Activation (None, 19, 19, 728)  0           add_7[0][0]                      \n",
      "__________________________________________________________________________________________________\n",
      "block9_sepconv1 (SeparableConv2 (None, 19, 19, 728)  536536      block9_sepconv1_act[0][0]        \n",
      "__________________________________________________________________________________________________\n",
      "block9_sepconv1_bn (BatchNormal (None, 19, 19, 728)  2912        block9_sepconv1[0][0]            \n",
      "__________________________________________________________________________________________________\n",
      "block9_sepconv2_act (Activation (None, 19, 19, 728)  0           block9_sepconv1_bn[0][0]         \n",
      "__________________________________________________________________________________________________\n",
      "block9_sepconv2 (SeparableConv2 (None, 19, 19, 728)  536536      block9_sepconv2_act[0][0]        \n",
      "__________________________________________________________________________________________________\n",
      "block9_sepconv2_bn (BatchNormal (None, 19, 19, 728)  2912        block9_sepconv2[0][0]            \n",
      "__________________________________________________________________________________________________\n",
      "block9_sepconv3_act (Activation (None, 19, 19, 728)  0           block9_sepconv2_bn[0][0]         \n",
      "__________________________________________________________________________________________________\n",
      "block9_sepconv3 (SeparableConv2 (None, 19, 19, 728)  536536      block9_sepconv3_act[0][0]        \n",
      "__________________________________________________________________________________________________\n",
      "block9_sepconv3_bn (BatchNormal (None, 19, 19, 728)  2912        block9_sepconv3[0][0]            \n",
      "__________________________________________________________________________________________________\n",
      "add_8 (Add)                     (None, 19, 19, 728)  0           block9_sepconv3_bn[0][0]         \n",
      "                                                                 add_7[0][0]                      \n",
      "__________________________________________________________________________________________________\n",
      "block10_sepconv1_act (Activatio (None, 19, 19, 728)  0           add_8[0][0]                      \n",
      "__________________________________________________________________________________________________\n",
      "block10_sepconv1 (SeparableConv (None, 19, 19, 728)  536536      block10_sepconv1_act[0][0]       \n",
      "__________________________________________________________________________________________________\n",
      "block10_sepconv1_bn (BatchNorma (None, 19, 19, 728)  2912        block10_sepconv1[0][0]           \n",
      "__________________________________________________________________________________________________\n",
      "block10_sepconv2_act (Activatio (None, 19, 19, 728)  0           block10_sepconv1_bn[0][0]        \n",
      "__________________________________________________________________________________________________\n",
      "block10_sepconv2 (SeparableConv (None, 19, 19, 728)  536536      block10_sepconv2_act[0][0]       \n",
      "__________________________________________________________________________________________________\n",
      "block10_sepconv2_bn (BatchNorma (None, 19, 19, 728)  2912        block10_sepconv2[0][0]           \n",
      "__________________________________________________________________________________________________\n",
      "block10_sepconv3_act (Activatio (None, 19, 19, 728)  0           block10_sepconv2_bn[0][0]        \n",
      "__________________________________________________________________________________________________\n",
      "block10_sepconv3 (SeparableConv (None, 19, 19, 728)  536536      block10_sepconv3_act[0][0]       \n",
      "__________________________________________________________________________________________________\n",
      "block10_sepconv3_bn (BatchNorma (None, 19, 19, 728)  2912        block10_sepconv3[0][0]           \n",
      "__________________________________________________________________________________________________\n",
      "add_9 (Add)                     (None, 19, 19, 728)  0           block10_sepconv3_bn[0][0]        \n",
      "                                                                 add_8[0][0]                      \n",
      "__________________________________________________________________________________________________\n",
      "block11_sepconv1_act (Activatio (None, 19, 19, 728)  0           add_9[0][0]                      \n",
      "__________________________________________________________________________________________________\n",
      "block11_sepconv1 (SeparableConv (None, 19, 19, 728)  536536      block11_sepconv1_act[0][0]       \n",
      "__________________________________________________________________________________________________\n",
      "block11_sepconv1_bn (BatchNorma (None, 19, 19, 728)  2912        block11_sepconv1[0][0]           \n",
      "__________________________________________________________________________________________________\n",
      "block11_sepconv2_act (Activatio (None, 19, 19, 728)  0           block11_sepconv1_bn[0][0]        \n",
      "__________________________________________________________________________________________________\n",
      "block11_sepconv2 (SeparableConv (None, 19, 19, 728)  536536      block11_sepconv2_act[0][0]       \n",
      "__________________________________________________________________________________________________\n",
      "block11_sepconv2_bn (BatchNorma (None, 19, 19, 728)  2912        block11_sepconv2[0][0]           \n",
      "__________________________________________________________________________________________________\n",
      "block11_sepconv3_act (Activatio (None, 19, 19, 728)  0           block11_sepconv2_bn[0][0]        \n",
      "__________________________________________________________________________________________________\n",
      "block11_sepconv3 (SeparableConv (None, 19, 19, 728)  536536      block11_sepconv3_act[0][0]       \n",
      "__________________________________________________________________________________________________\n",
      "block11_sepconv3_bn (BatchNorma (None, 19, 19, 728)  2912        block11_sepconv3[0][0]           \n",
      "__________________________________________________________________________________________________\n",
      "add_10 (Add)                    (None, 19, 19, 728)  0           block11_sepconv3_bn[0][0]        \n",
      "                                                                 add_9[0][0]                      \n",
      "__________________________________________________________________________________________________\n",
      "block12_sepconv1_act (Activatio (None, 19, 19, 728)  0           add_10[0][0]                     \n",
      "__________________________________________________________________________________________________\n",
      "block12_sepconv1 (SeparableConv (None, 19, 19, 728)  536536      block12_sepconv1_act[0][0]       \n",
      "__________________________________________________________________________________________________\n",
      "block12_sepconv1_bn (BatchNorma (None, 19, 19, 728)  2912        block12_sepconv1[0][0]           \n",
      "__________________________________________________________________________________________________\n",
      "block12_sepconv2_act (Activatio (None, 19, 19, 728)  0           block12_sepconv1_bn[0][0]        \n",
      "__________________________________________________________________________________________________\n",
      "block12_sepconv2 (SeparableConv (None, 19, 19, 728)  536536      block12_sepconv2_act[0][0]       \n",
      "__________________________________________________________________________________________________\n",
      "block12_sepconv2_bn (BatchNorma (None, 19, 19, 728)  2912        block12_sepconv2[0][0]           \n",
      "__________________________________________________________________________________________________\n",
      "block12_sepconv3_act (Activatio (None, 19, 19, 728)  0           block12_sepconv2_bn[0][0]        \n",
      "__________________________________________________________________________________________________\n",
      "block12_sepconv3 (SeparableConv (None, 19, 19, 728)  536536      block12_sepconv3_act[0][0]       \n",
      "__________________________________________________________________________________________________\n",
      "block12_sepconv3_bn (BatchNorma (None, 19, 19, 728)  2912        block12_sepconv3[0][0]           \n",
      "__________________________________________________________________________________________________\n",
      "add_11 (Add)                    (None, 19, 19, 728)  0           block12_sepconv3_bn[0][0]        \n",
      "                                                                 add_10[0][0]                     \n",
      "__________________________________________________________________________________________________\n",
      "block13_sepconv1_act (Activatio (None, 19, 19, 728)  0           add_11[0][0]                     \n",
      "__________________________________________________________________________________________________\n",
      "block13_sepconv1 (SeparableConv (None, 19, 19, 728)  536536      block13_sepconv1_act[0][0]       \n",
      "__________________________________________________________________________________________________\n",
      "block13_sepconv1_bn (BatchNorma (None, 19, 19, 728)  2912        block13_sepconv1[0][0]           \n",
      "__________________________________________________________________________________________________\n",
      "block13_sepconv2_act (Activatio (None, 19, 19, 728)  0           block13_sepconv1_bn[0][0]        \n",
      "__________________________________________________________________________________________________\n",
      "block13_sepconv2 (SeparableConv (None, 19, 19, 1024) 752024      block13_sepconv2_act[0][0]       \n",
      "__________________________________________________________________________________________________\n",
      "block13_sepconv2_bn (BatchNorma (None, 19, 19, 1024) 4096        block13_sepconv2[0][0]           \n",
      "__________________________________________________________________________________________________\n",
      "conv2d_4 (Conv2D)               (None, 10, 10, 1024) 745472      add_11[0][0]                     \n",
      "__________________________________________________________________________________________________\n",
      "block13_pool (MaxPooling2D)     (None, 10, 10, 1024) 0           block13_sepconv2_bn[0][0]        \n",
      "__________________________________________________________________________________________________\n",
      "batch_normalization_4 (BatchNor (None, 10, 10, 1024) 4096        conv2d_4[0][0]                   \n",
      "__________________________________________________________________________________________________\n",
      "add_12 (Add)                    (None, 10, 10, 1024) 0           block13_pool[0][0]               \n",
      "                                                                 batch_normalization_4[0][0]      \n",
      "__________________________________________________________________________________________________\n",
      "block14_sepconv1 (SeparableConv (None, 10, 10, 1536) 1582080     add_12[0][0]                     \n",
      "__________________________________________________________________________________________________\n",
      "block14_sepconv1_bn (BatchNorma (None, 10, 10, 1536) 6144        block14_sepconv1[0][0]           \n",
      "__________________________________________________________________________________________________\n",
      "block14_sepconv1_act (Activatio (None, 10, 10, 1536) 0           block14_sepconv1_bn[0][0]        \n",
      "__________________________________________________________________________________________________\n",
      "block14_sepconv2 (SeparableConv (None, 10, 10, 2048) 3159552     block14_sepconv1_act[0][0]       \n",
      "__________________________________________________________________________________________________\n",
      "block14_sepconv2_bn (BatchNorma (None, 10, 10, 2048) 8192        block14_sepconv2[0][0]           \n",
      "__________________________________________________________________________________________________\n",
      "block14_sepconv2_act (Activatio (None, 10, 10, 2048) 0           block14_sepconv2_bn[0][0]        \n",
      "__________________________________________________________________________________________________\n",
      "average_pooling2d_1 (AveragePoo (None, 1, 1, 2048)   0           block14_sepconv2_act[0][0]       \n",
      "__________________________________________________________________________________________________\n",
      "dropout_1 (Dropout)             (None, 1, 1, 2048)   0           average_pooling2d_1[0][0]        \n",
      "__________________________________________________________________________________________________\n",
      "flatten_1 (Flatten)             (None, 2048)         0           dropout_1[0][0]                  \n",
      "__________________________________________________________________________________________________\n",
      "dense_1 (Dense)                 (None, 2048)         4196352     flatten_1[0][0]                  \n",
      "__________________________________________________________________________________________________\n",
      "dropout_2 (Dropout)             (None, 2048)         0           dense_1[0][0]                    \n",
      "__________________________________________________________________________________________________\n",
      "dense_2 (Dense)                 (None, 7)            14343       dropout_2[0][0]                  \n",
      "==================================================================================================\n",
      "Total params: 25,072,175\n",
      "Trainable params: 4,210,695\n",
      "Non-trainable params: 20,861,480\n",
      "__________________________________________________________________________________________________\n"
     ]
    }
   ],
   "source": [
    "# On rajoute nos couches à la fin \n",
    "\n",
    "model = nouvelle_couche(model_xception, nb_classes)\n",
    "\n",
    "# On met en place le freeze, jusqu'à la couche 127. \n",
    "\n",
    "freeze_full(model,model_xception)\n",
    "#freeze_some(model,model_xception,127)"
   ]
  },
  {
   "cell_type": "markdown",
   "metadata": {},
   "source": [
    "## Mise en place du dataset  : \n",
    "\n",
    "Nous nous intéressons au fait de pouvoir différencier des plats culinaires, nous nous sommes notamment concentré sur la reconnaissance des plats suivants:\n",
    "\n",
    "-des Hamburgers:\n",
    "![title](img/h1.jpg)\n",
    "![title](img/h2.jpg)\n",
    "\n",
    "-des pates\n",
    "![title](img/p1.jpg)\n",
    "![title](img/p2.jpg)\n",
    "\n",
    "-des sushis ainsi que des makis\n",
    "![title](img/su1.jpg)\n",
    "![title](img/su2.jpg)\n",
    "\n",
    "-des baozhi\n",
    "![title](img/b1.jpg)\n",
    "![title](img/b2.jpg)\n",
    "\n",
    "-des soupes de ramen\n",
    "![title](img/r1.jpg)\n",
    "![title](img/r2.jpg)\n",
    "\n",
    "-et de la salade\n",
    "![title](img/s1.jpg)\n",
    "![title](img/s2.jpg)\n",
    "\n",
    "\n",
    "Pour chacune de ces 6 catégories, nous avons sélectionné 50 images d'entrainement et 10 images de validation. Cependant, il est important de noter que chacun de ces dataset présentent des images très différentes (par exemple des pâtes à la carbonara ou des pâtes au pesto), avec différents points de vus et éclairages.\n"
   ]
  },
  {
   "cell_type": "markdown",
   "metadata": {},
   "source": [
    "On va utiliser les fonctionnalités de Keras, on énonce d'abord nos différents paramètres : "
   ]
  },
  {
   "cell_type": "code",
   "execution_count": 12,
   "metadata": {},
   "outputs": [
    {
     "name": "stdout",
     "output_type": "stream",
     "text": [
      "done.\n"
     ]
    }
   ],
   "source": [
    "## Pour l'entrainement : \n",
    "#On limite ces paramètre, comme on travail sur des visages.\n",
    "\n",
    "# ======================\n",
    "\n",
    "\n",
    "rotationTrain = 30 \n",
    "width_shiftTrain = 0.2\n",
    "height_shiftTrain = 0.2\n",
    "shearTrain = 0.1\n",
    "zoomTrain = 0.05\n",
    "flipTrain = False\n",
    "\n",
    "## Pour les test : \n",
    "\n",
    "# ==============\n",
    "\n",
    "rotationTest = 0. \n",
    "width_shiftTest = 0.1\n",
    "height_shiftTest = 0.1\n",
    "shearTest = 0.1\n",
    "zoomTest = 0.05\n",
    "flipTest = False\n",
    "\n",
    "print(\"done.\")"
   ]
  },
  {
   "cell_type": "markdown",
   "metadata": {},
   "source": [
    "On peut maintenant créer nos différents [ImageDataGenerator](https://keras.io/preprocessing/image/)\n",
    "Les data pour les tests et la validation seront les même. "
   ]
  },
  {
   "cell_type": "code",
   "execution_count": 13,
   "metadata": {},
   "outputs": [
    {
     "name": "stdout",
     "output_type": "stream",
     "text": [
      "done.\n"
     ]
    }
   ],
   "source": [
    "\n",
    "\n",
    "trainDataGenerator = ImageDataGenerator(\n",
    "        rotation_range= rotationTrain,\n",
    "        width_shift_range= width_shiftTrain,\n",
    "        height_shift_range= height_shiftTrain,\n",
    "        shear_range= shearTrain,\n",
    "        zoom_range= zoomTrain,\n",
    "        rescale=1./255,\n",
    "        horizontal_flip= flipTrain,\n",
    "        vertical_flip =  flipTrain,\n",
    "        fill_mode='nearest')\n",
    "\n",
    "testDataGenerator = ImageDataGenerator(\n",
    "        rotation_range= rotationTest,\n",
    "        width_shift_range= width_shiftTest,\n",
    "        height_shift_range= height_shiftTest,\n",
    "        shear_range= shearTest,\n",
    "        zoom_range= zoomTest,\n",
    "        rescale=1./255,\n",
    "        horizontal_flip= flipTest,\n",
    "        vertical_flip = flipTest,\n",
    "        fill_mode='nearest')\n",
    "\n",
    "print(\"done.\")"
   ]
  },
  {
   "cell_type": "markdown",
   "metadata": {},
   "source": [
    "Les data sont en .zip sur GitHub. \n",
    "Elles sont placées en 2 dossiers : un training, et un validation. \n",
    "Chacun de ces deux dossiers comprend ensuite 4 dossiers : angry, frigthened, happy et neutral.\n",
    "\n",
    "Ces différents dossiers comprennent les images que nous allons utiliser. "
   ]
  },
  {
   "cell_type": "markdown",
   "metadata": {},
   "source": [
    "## On met ici en place les directions pour ces dossiers (à changer modifier)"
   ]
  },
  {
   "cell_type": "code",
   "execution_count": 14,
   "metadata": {},
   "outputs": [
    {
     "name": "stdout",
     "output_type": "stream",
     "text": [
      "done.\n"
     ]
    }
   ],
   "source": [
    "\n",
    "\n",
    "trainImg = '/Users/paulgarnier/Desktop/Files/Cours/Mines/2A/ApprentissageArtificiel/training/' \n",
    "validationImg = '/Users/paulgarnier/Desktop/Files/Cours/Mines/2A/ApprentissageArtificiel/validation/'\n",
    "\n",
    "print(\"done.\")"
   ]
  },
  {
   "cell_type": "markdown",
   "metadata": {},
   "source": [
    "Finalement, on lance nos dataGenerator avec ces images :  "
   ]
  },
  {
   "cell_type": "code",
   "execution_count": 15,
   "metadata": {},
   "outputs": [
    {
     "name": "stdout",
     "output_type": "stream",
     "text": [
      "Found 350 images belonging to 7 classes.\n",
      "Found 70 images belonging to 7 classes.\n",
      "done.\n"
     ]
    }
   ],
   "source": [
    "\n",
    "trainGenerator = trainDataGenerator.flow_from_directory(\n",
    "                    trainImg,\n",
    "                    target_size=(WIDTH,HEIGHT),\n",
    "                    batch_size=BAT_SIZE,\n",
    "                    color_mode='rgb',\n",
    "                    class_mode='categorical')\n",
    "testGenerator = testDataGenerator.flow_from_directory(\n",
    "                    validationImg,\n",
    "                    target_size=(WIDTH,HEIGHT),\n",
    "                    batch_size=BAT_SIZE_TEST,\n",
    "                    color_mode='rgb',\n",
    "                    class_mode='categorical') \n",
    "print(\"done.\")"
   ]
  },
  {
   "cell_type": "markdown",
   "metadata": {},
   "source": [
    "## Entraînement du modèle : \n",
    "\n",
    "On peut maintenant entrainer le modèle, puis analyser nos résultats. \n",
    "On définit tout d'abord le nom de notre modèle pour pouvoir le sauvegarder sur notre ordinateur."
   ]
  },
  {
   "cell_type": "code",
   "execution_count": 16,
   "metadata": {},
   "outputs": [
    {
     "name": "stdout",
     "output_type": "stream",
     "text": [
      "done.\n"
     ]
    }
   ],
   "source": [
    "saveName = \"xception_face.model\"\n",
    "print(\"done.\")"
   ]
  },
  {
   "cell_type": "code",
   "execution_count": 17,
   "metadata": {},
   "outputs": [
    {
     "name": "stdout",
     "output_type": "stream",
     "text": [
      "Epoch 1/50\n",
      "13/12 [===============================] - 81s 6s/step - loss: 2.4247 - acc: 0.2163 - val_loss: 1.9575 - val_acc: 0.4250\n",
      "Epoch 2/50\n",
      "13/12 [===============================] - 76s 6s/step - loss: 2.0328 - acc: 0.3730 - val_loss: 1.2130 - val_acc: 0.5526\n",
      "Epoch 3/50\n",
      "13/12 [===============================] - 78s 6s/step - loss: 1.2406 - acc: 0.5288 - val_loss: 0.7708 - val_acc: 0.7750\n",
      "Epoch 4/50\n",
      "13/12 [===============================] - 75s 6s/step - loss: 1.2089 - acc: 0.5289 - val_loss: 0.7811 - val_acc: 0.7632\n",
      "Epoch 5/50\n",
      "13/12 [===============================] - 79s 6s/step - loss: 1.0723 - acc: 0.6298 - val_loss: 0.7173 - val_acc: 0.8000\n",
      "Epoch 6/50\n",
      "13/12 [===============================] - 76s 6s/step - loss: 0.9222 - acc: 0.6937 - val_loss: 0.5998 - val_acc: 0.7895\n",
      "Epoch 7/50\n",
      "13/12 [===============================] - 76s 6s/step - loss: 1.0671 - acc: 0.6353 - val_loss: 0.7143 - val_acc: 0.8000\n",
      "Epoch 8/50\n",
      "13/12 [===============================] - 77s 6s/step - loss: 0.8679 - acc: 0.7308 - val_loss: 0.6441 - val_acc: 0.8158\n",
      "Epoch 9/50\n",
      "13/12 [===============================] - 76s 6s/step - loss: 1.0149 - acc: 0.6793 - val_loss: 0.7526 - val_acc: 0.7895\n",
      "Epoch 10/50\n",
      "13/12 [===============================] - 77s 6s/step - loss: 0.9327 - acc: 0.6538 - val_loss: 0.8934 - val_acc: 0.7250\n",
      "Epoch 11/50\n",
      "13/12 [===============================] - 77s 6s/step - loss: 0.8314 - acc: 0.7232 - val_loss: 0.4077 - val_acc: 0.8158\n",
      "Epoch 12/50\n",
      "13/12 [===============================] - 76s 6s/step - loss: 0.8922 - acc: 0.7027 - val_loss: 0.6573 - val_acc: 0.7750\n",
      "Epoch 13/50\n",
      "13/12 [===============================] - 77s 6s/step - loss: 0.8221 - acc: 0.7308 - val_loss: 0.7621 - val_acc: 0.7105\n",
      "Epoch 14/50\n",
      "13/12 [===============================] - 77s 6s/step - loss: 0.8745 - acc: 0.7069 - val_loss: 0.5172 - val_acc: 0.8750\n",
      "Epoch 15/50\n",
      "13/12 [===============================] - 76s 6s/step - loss: 0.8432 - acc: 0.7163 - val_loss: 0.8477 - val_acc: 0.7632\n",
      "Epoch 16/50\n",
      "13/12 [===============================] - 82s 6s/step - loss: 0.7709 - acc: 0.7569 - val_loss: 0.3347 - val_acc: 0.9000\n",
      "Epoch 17/50\n",
      "13/12 [===============================] - 82s 6s/step - loss: 0.6985 - acc: 0.7274 - val_loss: 0.7627 - val_acc: 0.6842\n",
      "Epoch 18/50\n",
      "13/12 [===============================] - 78s 6s/step - loss: 0.7461 - acc: 0.7452 - val_loss: 0.9331 - val_acc: 0.6842\n",
      "Epoch 19/50\n",
      "13/12 [===============================] - 81s 6s/step - loss: 0.9301 - acc: 0.6924 - val_loss: 0.5030 - val_acc: 0.7750\n",
      "Epoch 20/50\n",
      "13/12 [===============================] - 80s 6s/step - loss: 0.8871 - acc: 0.7308 - val_loss: 0.6403 - val_acc: 0.7632\n",
      "Epoch 21/50\n",
      "13/12 [===============================] - 77s 6s/step - loss: 0.7244 - acc: 0.7543 - val_loss: 0.7685 - val_acc: 0.7000\n",
      "Epoch 22/50\n",
      "13/12 [===============================] - 77s 6s/step - loss: 0.6750 - acc: 0.7845 - val_loss: 0.4438 - val_acc: 0.8684\n",
      "Epoch 23/50\n",
      "13/12 [===============================] - 78s 6s/step - loss: 0.6940 - acc: 0.7837 - val_loss: 0.5143 - val_acc: 0.7750\n",
      "Epoch 24/50\n",
      "13/12 [===============================] - 75s 6s/step - loss: 0.5867 - acc: 0.7569 - val_loss: 0.7111 - val_acc: 0.8421\n",
      "Epoch 25/50\n",
      "13/12 [===============================] - 78s 6s/step - loss: 0.6757 - acc: 0.7644 - val_loss: 0.3759 - val_acc: 0.8500\n",
      "Epoch 26/50\n",
      "13/12 [===============================] - 76s 6s/step - loss: 0.6877 - acc: 0.7732 - val_loss: 0.4349 - val_acc: 0.8947\n",
      "Epoch 27/50\n",
      "13/12 [===============================] - 77s 6s/step - loss: 0.6895 - acc: 0.7548 - val_loss: 0.6821 - val_acc: 0.7895\n",
      "Epoch 28/50\n",
      "13/12 [===============================] - 78s 6s/step - loss: 0.5750 - acc: 0.7870 - val_loss: 0.5923 - val_acc: 0.8500\n",
      "Epoch 29/50\n",
      "13/12 [===============================] - 75s 6s/step - loss: 0.7867 - acc: 0.7377 - val_loss: 0.5640 - val_acc: 0.8421\n",
      "Epoch 30/50\n",
      "13/12 [===============================] - 78s 6s/step - loss: 0.7143 - acc: 0.7115 - val_loss: 0.4840 - val_acc: 0.8750\n",
      "Epoch 31/50\n",
      "13/12 [===============================] - 77s 6s/step - loss: 0.5750 - acc: 0.7611 - val_loss: 0.4742 - val_acc: 0.8684\n",
      "Epoch 32/50\n",
      "13/12 [===============================] - 77s 6s/step - loss: 0.7020 - acc: 0.7356 - val_loss: 0.6354 - val_acc: 0.8250\n",
      "Epoch 33/50\n",
      "13/12 [===============================] - 76s 6s/step - loss: 0.6615 - acc: 0.8063 - val_loss: 0.5689 - val_acc: 0.8158\n",
      "Epoch 34/50\n",
      "13/12 [===============================] - 77s 6s/step - loss: 0.8051 - acc: 0.7322 - val_loss: 0.3340 - val_acc: 0.9500\n",
      "Epoch 35/50\n",
      "13/12 [===============================] - 76s 6s/step - loss: 0.7735 - acc: 0.7356 - val_loss: 0.4518 - val_acc: 0.8684\n",
      "Epoch 36/50\n",
      "13/12 [===============================] - 77s 6s/step - loss: 0.6095 - acc: 0.8050 - val_loss: 0.4706 - val_acc: 0.8158\n",
      "Epoch 37/50\n",
      "13/12 [===============================] - 77s 6s/step - loss: 0.5885 - acc: 0.7885 - val_loss: 0.5244 - val_acc: 0.8250\n",
      "Epoch 38/50\n",
      "13/12 [===============================] - 76s 6s/step - loss: 0.6270 - acc: 0.7822 - val_loss: 0.7050 - val_acc: 0.7632\n",
      "Epoch 39/50\n",
      "13/12 [===============================] - 76s 6s/step - loss: 0.6623 - acc: 0.7912 - val_loss: 0.2992 - val_acc: 0.9500\n",
      "Epoch 40/50\n",
      "13/12 [===============================] - 78s 6s/step - loss: 0.6722 - acc: 0.7788 - val_loss: 0.6297 - val_acc: 0.7105\n",
      "Epoch 41/50\n",
      "13/12 [===============================] - 76s 6s/step - loss: 0.5613 - acc: 0.7960 - val_loss: 0.4925 - val_acc: 0.8750\n",
      "Epoch 42/50\n",
      "13/12 [===============================] - 76s 6s/step - loss: 0.5683 - acc: 0.8077 - val_loss: 0.5958 - val_acc: 0.8158\n",
      "Epoch 43/50\n",
      "13/12 [===============================] - 77s 6s/step - loss: 0.6029 - acc: 0.7774 - val_loss: 0.4132 - val_acc: 0.8500\n",
      "Epoch 44/50\n",
      "13/12 [===============================] - 76s 6s/step - loss: 0.5608 - acc: 0.8117 - val_loss: 0.4507 - val_acc: 0.8421\n",
      "Epoch 45/50\n",
      "13/12 [===============================] - 77s 6s/step - loss: 0.5442 - acc: 0.7788 - val_loss: 0.7107 - val_acc: 0.7895\n",
      "Epoch 46/50\n",
      "13/12 [===============================] - 76s 6s/step - loss: 0.6236 - acc: 0.7768 - val_loss: 0.5554 - val_acc: 0.8250\n",
      "Epoch 47/50\n",
      "13/12 [===============================] - 76s 6s/step - loss: 0.5719 - acc: 0.8173 - val_loss: 0.4480 - val_acc: 0.8947\n",
      "Epoch 48/50\n",
      "13/12 [===============================] - 78s 6s/step - loss: 0.7023 - acc: 0.7912 - val_loss: 0.7697 - val_acc: 0.7750\n",
      "Epoch 49/50\n",
      "13/12 [===============================] - 76s 6s/step - loss: 0.5173 - acc: 0.7740 - val_loss: 0.3840 - val_acc: 0.8947\n",
      "Epoch 50/50\n",
      "13/12 [===============================] - 76s 6s/step - loss: 0.6745 - acc: 0.7460 - val_loss: 0.4549 - val_acc: 0.8500\n",
      "done.\n"
     ]
    }
   ],
   "source": [
    "## et on lance le training : \n",
    "## ========================\n",
    "\n",
    "history = model.fit_generator(trainGenerator,\n",
    "                              steps_per_epoch=NB_IMG_TRAIN/BAT_SIZE,\n",
    "                              epochs=50,\n",
    "                              validation_data=testGenerator,\n",
    "                              validation_steps=NB_IMG_VAL/BAT_SIZE_TEST,\n",
    "                                 verbose=1) \n",
    "\n",
    "\n",
    "model.save(saveName)\n",
    "print(\"done.\")"
   ]
  },
  {
   "cell_type": "code",
   "execution_count": 21,
   "metadata": {},
   "outputs": [
    {
     "data": {
      "image/png": "[encoded data removed]",
      "text/plain": [
       "<Figure size 432x288 with 1 Axes>"
      ]
     },
     "metadata": {},
     "output_type": "display_data"
    },
    {
     "data": {
      "image/png": "[encoded data removed]",
      "text/plain": [
       "<Figure size 432x288 with 1 Axes>"
      ]
     },
     "metadata": {},
     "output_type": "display_data"
    }
   ],
   "source": [
    "plt.plot(history.history['loss'],'b--')\n",
    "plt.plot(history.history['val_loss'],'m+')\n",
    "plt.title('Model loss by epoch')\n",
    "plt.ylabel('loss')\n",
    "plt.xlabel('epoch')\n",
    "plt.legend(['train', 'valid'], loc='right')\n",
    "plt.show()\n",
    "\n",
    "plt.plot(history.history['acc'],'--')\n",
    "plt.plot(history.history['val_acc'],'g+')\n",
    "plt.title('Model accuracy by epoch')\n",
    "plt.ylabel('accuracy')\n",
    "plt.legend(['train', 'valid'], loc='right')\n",
    "plt.xlabel('epoch')\n",
    "plt.show()\n"
   ]
  },
  {
   "cell_type": "markdown",
   "metadata": {},
   "source": [
    "On reload notre modèle pour pouvoir le réutiliser par la suite : "
   ]
  },
  {
   "cell_type": "code",
   "execution_count": 25,
   "metadata": {},
   "outputs": [
    {
     "name": "stdout",
     "output_type": "stream",
     "text": [
      "done.\n"
     ]
    }
   ],
   "source": [
    "traine_model = load_model('xception_face.model')\n",
    "print(\"done.\")"
   ]
  },
  {
   "cell_type": "code",
   "execution_count": null,
   "metadata": {},
   "outputs": [],
   "source": []
  }
 ],
 "metadata": {
  "kernelspec": {
   "display_name": "Python 3",
   "language": "python",
   "name": "python3"
  },
  "language_info": {
   "codemirror_mode": {
    "name": "ipython",
    "version": 3
   },
   "file_extension": ".py",
   "mimetype": "text/x-python",
   "name": "python",
   "nbconvert_exporter": "python",
   "pygments_lexer": "ipython3",
   "version": "3.6.7"
  }
 },
 "nbformat": 4,
 "nbformat_minor": 1
}
